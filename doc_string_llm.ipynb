{
 "cells": [
  {
   "cell_type": "code",
   "execution_count": null,
   "id": "6fb0039c-eb76-4b2b-99b9-088cda50080e",
   "metadata": {},
   "outputs": [],
   "source": [
    "# imports\n",
    "\n",
    "import os\n",
    "import io\n",
    "import sys\n",
    "import json\n",
    "import requests\n",
    "from dotenv import load_dotenv\n",
    "from openai import OpenAI\n",
    "import google.generativeai\n",
    "import anthropic\n",
    "from IPython.display import Markdown, display, update_display\n",
    "import gradio as gr\n",
    "import subprocess\n",
    "from huggingface_hub import login, InferenceClient\n",
    "from transformers import AutoTokenizer"
   ]
  },
  {
   "cell_type": "code",
   "execution_count": null,
   "id": "67343a83-6edb-4933-b043-53e8f46d721a",
   "metadata": {},
   "outputs": [],
   "source": [
    "# environment\n",
    "\n",
    "load_dotenv(override=True)\n",
    "os.environ['OPENAI_API_KEY'] = os.getenv('OPENAI_API_KEY', 'your-key-if-not-using-env')\n",
    "os.environ['ANTHROPIC_API_KEY'] = os.getenv('ANTHROPIC_API_KEY', 'your-key-if-not-using-env')\n",
    "os.environ['HF_TOKEN'] = os.getenv('HF_TOKEN', 'your-key-if-not-using-env')"
   ]
  },
  {
   "cell_type": "code",
   "execution_count": null,
   "id": "c6afa09e-2d03-4e0a-a029-c74a7b19684f",
   "metadata": {},
   "outputs": [],
   "source": [
    "# initialize\n",
    "\n",
    "openai = OpenAI()\n",
    "claude = anthropic.Anthropic()\n",
    "code_qwen = \"Qwen/CodeQwen1.5-7B-Chat\"\n",
    "code_gemma = \"google/codegemma-7b-it\"\n",
    "CODE_QWEN_URL = \"https://h1vdol7jxhje3mpn.us-east-1.aws.endpoints.huggingface.cloud\"\n",
    "CODE_GEMMA_URL = \"https://c5hggiyqachmgnqg.us-east-1.aws.endpoints.huggingface.cloud\""
   ]
  },
  {
   "cell_type": "code",
   "execution_count": null,
   "id": "f78ec8e0-f9f9-4194-afb6-f4f46f09c2c8",
   "metadata": {},
   "outputs": [],
   "source": [
    "system_message = \"You are an assistant that views pull request raised by software Python developer code. \"\n",
    "system_message += \"Respond only with python code; use comments sparingly and do not provide any explanation other than occasional comments. \"\n",
    "\n"
   ]
  },
  {
   "cell_type": "code",
   "execution_count": null,
   "id": "8dea21d8-1704-49a3-9a4b-a0c3cfbf36c6",
   "metadata": {},
   "outputs": [],
   "source": [
    "def user_prompt_for(python):\n",
    "    user_prompt = \"Fomrat this Python code using PEP8 style put doctstring by understanding the module or function whichever is applicable. \"\n",
    "    user_prompt += \"Respond only with python code; with proper clean and elagant. \"\n",
    "    user_prompt += python\n",
    "    return user_prompt"
   ]
  },
  {
   "cell_type": "code",
   "execution_count": null,
   "id": "c397b869-e46c-45ee-b53a-67494b08d11b",
   "metadata": {},
   "outputs": [],
   "source": [
    "def messages_for(python):\n",
    "    return [\n",
    "        {\"role\": \"system\", \"content\": system_message},\n",
    "        {\"role\": \"user\", \"content\": user_prompt_for(python)}\n",
    "    ]"
   ]
  },
  {
   "cell_type": "code",
   "execution_count": null,
   "id": "ef6dfdee-6538-46d0-9912-108d6e4d8f22",
   "metadata": {},
   "outputs": [],
   "source": [
    "def write_output(python_code):\n",
    "    python_code = python_code.replace('```python\\n','').replace('```','')\n",
    "    with open(\"pep8_formatted.py\", \"w\") as f:\n",
    "        f.write(python_code)"
   ]
  },
  {
   "cell_type": "code",
   "execution_count": null,
   "id": "29abf50c-c329-4c0b-81bb-cec879385f3b",
   "metadata": {},
   "outputs": [],
   "source": [
    "def stream_claude(python):\n",
    "    result = claude.messages.stream(\n",
    "        model=CLAUDE_MODEL,\n",
    "        max_tokens=2000,\n",
    "        system=system_message,\n",
    "        messages=[{\"role\": \"user\", \"content\": user_prompt_for(python)}],\n",
    "    )\n",
    "    reply = \"\"\n",
    "    with result as stream:\n",
    "        for text in stream.text_stream:\n",
    "            reply += text\n",
    "            yield reply.replace('```cpp\\n','').replace('```','')\n",
    "    write_output(reply)\n",
    "    "
   ]
  },
  {
   "cell_type": "code",
   "execution_count": null,
   "id": "5c67e9a5-2399-4ee6-98a6-12029f3a4f77",
   "metadata": {},
   "outputs": [],
   "source": [
    "def call_model(python, model):  \n",
    "    \n",
    "    reply = \"\"\n",
    "    if model == 'GPT':\n",
    "        stream = openai.chat.completions.create(model=OPENAI_MODEL, messages=messages_for(python), stream=True)\n",
    "    elif model == 'Claude':\n",
    "        stream = claude.messages.stream(\n",
    "        model=CLAUDE_MODEL,\n",
    "        max_tokens=2000,\n",
    "        system=system_message,\n",
    "        messages=[{\"role\": \"user\", \"content\": user_prompt_for(python)}],\n",
    "    )\n",
    "    elif model == 'CodeQwen':\n",
    "        tokenizer = AutoTokenizer.from_pretrained(code_qwen)\n",
    "        messages = messages_for(python)\n",
    "        text = tokenizer.apply_chat_template(messages, tokenize=False, add_generation_prompt=True)\n",
    "        client = InferenceClient(CODE_QWEN_URL, token=hf_token)\n",
    "        stream = client.text_generation(text, stream=True, details=True, max_new_tokens=3000)\n",
    "\n",
    "    for chunk in stream:\n",
    "        fragment = chunk.choices[0].delta.content or \"\"\n",
    "        reply += fragment\n",
    "        print(fragment, end='', flush=True)\n",
    "        yield reply.replace('```python\\n','').replace('```','')\n",
    "    write_output(reply)"
   ]
  },
  {
   "cell_type": "code",
   "execution_count": null,
   "id": "c6e7cd36-57f6-4bb4-8242-640e73731992",
   "metadata": {},
   "outputs": [],
   "source": [
    "sample = \"\"\"\n",
    "import random\n",
    "\n",
    "def start_game():\n",
    "\n",
    "    mat =[]\n",
    "    for i in range(4):\n",
    "        mat.append([0] * 4)\n",
    "\n",
    "\n",
    "    print(\"Commands are as follows : \")\n",
    "    print(\"'W' or 'w' : Move Up\")\n",
    "    print(\"'S' or 's' : Move Down\")\n",
    "    print(\"'A' or 'a' : Move Left\")\n",
    "    print(\"'D' or 'd' : Move Right\")\n",
    "\n",
    "    add_new_2(mat)\n",
    "    return mat\n",
    "\n",
    "def findEmpty(mat):\n",
    "    for i in range(4):\n",
    "        for j in range(4):\n",
    "            if mat[i][j] == 0:\n",
    "                return i, j \n",
    "    return None, None\n",
    "\"\"\""
   ]
  },
  {
   "cell_type": "code",
   "execution_count": null,
   "id": "5b9eabfd-3b7e-4086-8cb9-81b53ec886c8",
   "metadata": {},
   "outputs": [],
   "source": [
    "with gr.Blocks() as ui:\n",
    "    with gr.Row():\n",
    "        python = gr.Textbox(label=\"Python code:\", lines=10, value=sample)\n",
    "        cpp = gr.Textbox(label=\"PEP8 formatted code:\", lines=10)\n",
    "    with gr.Row():\n",
    "        model = gr.Dropdown([\"GPT\", \"Claude\", \"CodeQwen\"], label=\"Select model\", value=\"GPT\")\n",
    "        convert = gr.Button(\"Fomrat code\")\n",
    "\n",
    "    convert.click(call_model, inputs=[python, model], outputs=[cpp])\n",
    "\n",
    "ui.launch(inbrowser=True)"
   ]
  }
 ],
 "metadata": {
  "kernelspec": {
   "display_name": "Python 3 (ipykernel)",
   "language": "python",
   "name": "python3"
  },
  "language_info": {
   "codemirror_mode": {
    "name": "ipython",
    "version": 3
   },
   "file_extension": ".py",
   "mimetype": "text/x-python",
   "name": "python",
   "nbconvert_exporter": "python",
   "pygments_lexer": "ipython3",
   "version": "3.11.12"
  }
 },
 "nbformat": 4,
 "nbformat_minor": 5
}
